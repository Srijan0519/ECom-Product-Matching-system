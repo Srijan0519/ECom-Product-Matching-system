{
 "cells": [
  {
   "cell_type": "code",
   "execution_count": 2,
   "id": "f5ac1556-100e-482f-9a13-17326d1fb5a5",
   "metadata": {},
   "outputs": [
    {
     "name": "stderr",
     "output_type": "stream",
     "text": [
      "C:\\Users\\HP\\anaconda3\\Lib\\site-packages\\sentence_transformers\\cross_encoder\\CrossEncoder.py:11: TqdmExperimentalWarning: Using `tqdm.autonotebook.tqdm` in notebook mode. Use `tqdm.tqdm` instead to force console mode (e.g. in jupyter console)\n",
      "  from tqdm.autonotebook import tqdm, trange\n"
     ]
    }
   ],
   "source": [
    "import pandas as pd\n",
    "import numpy as np\n",
    "from sklearn.model_selection import train_test_split\n",
    "from sklearn.preprocessing import StandardScaler\n",
    "from sklearn.neural_network import MLPClassifier\n",
    "from sentence_transformers import SentenceTransformer\n",
    "from sklearn.metrics import accuracy_score, f1_score, precision_score, recall_score\n",
    "import joblib\n",
    "import streamlit as st"
   ]
  },
  {
   "cell_type": "code",
   "execution_count": 3,
   "id": "85b6b3b0-0373-4da9-a80d-ca3c8e7b134d",
   "metadata": {},
   "outputs": [
    {
     "data": {
      "text/html": [
       "<div>\n",
       "<style scoped>\n",
       "    .dataframe tbody tr th:only-of-type {\n",
       "        vertical-align: middle;\n",
       "    }\n",
       "\n",
       "    .dataframe tbody tr th {\n",
       "        vertical-align: top;\n",
       "    }\n",
       "\n",
       "    .dataframe thead th {\n",
       "        text-align: right;\n",
       "    }\n",
       "</style>\n",
       "<table border=\"1\" class=\"dataframe\">\n",
       "  <thead>\n",
       "    <tr style=\"text-align: right;\">\n",
       "      <th></th>\n",
       "      <th>Unnamed: 0.1</th>\n",
       "      <th>Unnamed: 0</th>\n",
       "      <th>normalized_title</th>\n",
       "      <th>offer_price_amazon</th>\n",
       "      <th>mrp_amazon</th>\n",
       "      <th>offer_price_prokick</th>\n",
       "      <th>mrp_prokick</th>\n",
       "      <th>offer_price_instasports</th>\n",
       "      <th>mrp</th>\n",
       "      <th>clean_title</th>\n",
       "      <th>color</th>\n",
       "      <th>pack_size</th>\n",
       "      <th>limited_edition</th>\n",
       "      <th>speed</th>\n",
       "    </tr>\n",
       "  </thead>\n",
       "  <tbody>\n",
       "    <tr>\n",
       "      <th>0</th>\n",
       "      <td>317</td>\n",
       "      <td>317</td>\n",
       "      <td>yonex aerosensa 10 feather shuttlecock, 3 cans</td>\n",
       "      <td>NaN</td>\n",
       "      <td>NaN</td>\n",
       "      <td>7015.0</td>\n",
       "      <td>8250.0</td>\n",
       "      <td>NaN</td>\n",
       "      <td>NaN</td>\n",
       "      <td>yonex aerosensa 10 feather shuttlecock, 3 cans</td>\n",
       "      <td>NaN</td>\n",
       "      <td>NaN</td>\n",
       "      <td>No</td>\n",
       "      <td>NaN</td>\n",
       "    </tr>\n",
       "    <tr>\n",
       "      <th>1</th>\n",
       "      <td>318</td>\n",
       "      <td>318</td>\n",
       "      <td>yonex 11488 wrist band, navy/red (pack of 2)</td>\n",
       "      <td>NaN</td>\n",
       "      <td>NaN</td>\n",
       "      <td>390.0</td>\n",
       "      <td>398.0</td>\n",
       "      <td>NaN</td>\n",
       "      <td>NaN</td>\n",
       "      <td>yonex 11488 wrist band, /</td>\n",
       "      <td>navy, red</td>\n",
       "      <td>pack of 2</td>\n",
       "      <td>No</td>\n",
       "      <td>NaN</td>\n",
       "    </tr>\n",
       "    <tr>\n",
       "      <th>2</th>\n",
       "      <td>319</td>\n",
       "      <td>319</td>\n",
       "      <td>yonex ac 152ex badminton net</td>\n",
       "      <td>NaN</td>\n",
       "      <td>NaN</td>\n",
       "      <td>1745.0</td>\n",
       "      <td>2490.0</td>\n",
       "      <td>NaN</td>\n",
       "      <td>NaN</td>\n",
       "      <td>yonex ac 152ex badminton net</td>\n",
       "      <td>NaN</td>\n",
       "      <td>NaN</td>\n",
       "      <td>No</td>\n",
       "      <td>NaN</td>\n",
       "    </tr>\n",
       "    <tr>\n",
       "      <th>3</th>\n",
       "      <td>320</td>\n",
       "      <td>320</td>\n",
       "      <td>yonex ezone 98 tennis racquet</td>\n",
       "      <td>NaN</td>\n",
       "      <td>NaN</td>\n",
       "      <td>15745.0</td>\n",
       "      <td>26240.0</td>\n",
       "      <td>NaN</td>\n",
       "      <td>NaN</td>\n",
       "      <td>yonex ezone 98 tennis racquet</td>\n",
       "      <td>NaN</td>\n",
       "      <td>NaN</td>\n",
       "      <td>No</td>\n",
       "      <td>NaN</td>\n",
       "    </tr>\n",
       "    <tr>\n",
       "      <th>4</th>\n",
       "      <td>321</td>\n",
       "      <td>321</td>\n",
       "      <td>yonex voltric lite 20i badminton racquet</td>\n",
       "      <td>NaN</td>\n",
       "      <td>NaN</td>\n",
       "      <td>1839.0</td>\n",
       "      <td>2790.0</td>\n",
       "      <td>NaN</td>\n",
       "      <td>NaN</td>\n",
       "      <td>yonex voltric lite 20i badminton racquet</td>\n",
       "      <td>NaN</td>\n",
       "      <td>NaN</td>\n",
       "      <td>No</td>\n",
       "      <td>NaN</td>\n",
       "    </tr>\n",
       "  </tbody>\n",
       "</table>\n",
       "</div>"
      ],
      "text/plain": [
       "   Unnamed: 0.1  Unnamed: 0                                normalized_title  \\\n",
       "0           317         317  yonex aerosensa 10 feather shuttlecock, 3 cans   \n",
       "1           318         318    yonex 11488 wrist band, navy/red (pack of 2)   \n",
       "2           319         319                    yonex ac 152ex badminton net   \n",
       "3           320         320                   yonex ezone 98 tennis racquet   \n",
       "4           321         321        yonex voltric lite 20i badminton racquet   \n",
       "\n",
       "   offer_price_amazon  mrp_amazon  offer_price_prokick  mrp_prokick  \\\n",
       "0                 NaN         NaN               7015.0       8250.0   \n",
       "1                 NaN         NaN                390.0        398.0   \n",
       "2                 NaN         NaN               1745.0       2490.0   \n",
       "3                 NaN         NaN              15745.0      26240.0   \n",
       "4                 NaN         NaN               1839.0       2790.0   \n",
       "\n",
       "   offer_price_instasports  mrp  \\\n",
       "0                      NaN  NaN   \n",
       "1                      NaN  NaN   \n",
       "2                      NaN  NaN   \n",
       "3                      NaN  NaN   \n",
       "4                      NaN  NaN   \n",
       "\n",
       "                                      clean_title      color  pack_size  \\\n",
       "0  yonex aerosensa 10 feather shuttlecock, 3 cans        NaN        NaN   \n",
       "1                       yonex 11488 wrist band, /  navy, red  pack of 2   \n",
       "2                    yonex ac 152ex badminton net        NaN        NaN   \n",
       "3                   yonex ezone 98 tennis racquet        NaN        NaN   \n",
       "4        yonex voltric lite 20i badminton racquet        NaN        NaN   \n",
       "\n",
       "  limited_edition speed  \n",
       "0              No   NaN  \n",
       "1              No   NaN  \n",
       "2              No   NaN  \n",
       "3              No   NaN  \n",
       "4              No   NaN  "
      ]
     },
     "execution_count": 3,
     "metadata": {},
     "output_type": "execute_result"
    }
   ],
   "source": [
    "df= pd.read_csv('prokick_competition.csv')\n",
    "df.head()"
   ]
  },
  {
   "cell_type": "code",
   "execution_count": 6,
   "id": "f80accbc-7f71-4677-a2fd-211d26acd6d4",
   "metadata": {},
   "outputs": [],
   "source": [
    "df = df.loc[:, ~df.columns.str.contains('^Unnamed')]\n",
    "df = df.reset_index(drop=True)"
   ]
  },
  {
   "cell_type": "code",
   "execution_count": 10,
   "id": "f797e6ef-617d-4da9-bed4-3e826c3a7a31",
   "metadata": {},
   "outputs": [
    {
     "data": {
      "text/plain": [
       "Index(['normalized_title', 'offer_price_amazon', 'mrp_amazon',\n",
       "       'offer_price_prokick', 'mrp_prokick', 'offer_price_instasports', 'mrp',\n",
       "       'clean_title', 'color', 'pack_size', 'limited_edition', 'speed'],\n",
       "      dtype='object')"
      ]
     },
     "execution_count": 10,
     "metadata": {},
     "output_type": "execute_result"
    }
   ],
   "source": [
    "df.columns"
   ]
  },
  {
   "cell_type": "code",
   "execution_count": 85,
   "id": "2c072b82-a204-43df-9b57-7ba734bc8e74",
   "metadata": {},
   "outputs": [],
   "source": [
    "df['available_amazon'] = df['offer_price_amazon'].notna().astype(int)\n",
    "df['available_instasport'] = df['offer_price_instasports'].notna().astype(int)"
   ]
  },
  {
   "cell_type": "code",
   "execution_count": 87,
   "id": "80c576ac-b593-423a-84ad-57e4f35bd8f1",
   "metadata": {},
   "outputs": [],
   "source": [
    "model = SentenceTransformer('paraphrase-MiniLM-L6-v2')"
   ]
  },
  {
   "cell_type": "code",
   "execution_count": 88,
   "id": "ad9c164d-5586-4e1a-b304-effd10d50215",
   "metadata": {},
   "outputs": [],
   "source": [
    "embeddings = model.encode(df['clean_title'].tolist())"
   ]
  },
  {
   "cell_type": "code",
   "execution_count": 89,
   "id": "a5846e6d-158d-46e9-bd91-847cf06d7d22",
   "metadata": {},
   "outputs": [],
   "source": [
    "X = embeddings\n",
    "y_amazon = df['available_amazon']\n",
    "y_instasport = df['available_instasport']"
   ]
  },
  {
   "cell_type": "code",
   "execution_count": 90,
   "id": "4ddbd265-09e0-485c-a7d5-6b2d868cd003",
   "metadata": {},
   "outputs": [],
   "source": [
    "X_train, X_test, y_amazon_train, y_amazon_test, y_instasport_train, y_instasport_test = train_test_split(\n",
    "    X, y_amazon, y_instasport, test_size=0.2, random_state=42\n",
    ")\n",
    "scaler = StandardScaler()\n",
    "X_train_scaled = scaler.fit_transform(X_train)\n",
    "X_test_scaled = scaler.transform(X_test)"
   ]
  },
  {
   "cell_type": "code",
   "execution_count": 91,
   "id": "9678e1bd-b9fe-4eb1-b54d-4db7da5b994a",
   "metadata": {},
   "outputs": [
    {
     "data": {
      "text/html": [
       "<style>#sk-container-id-3 {color: black;background-color: white;}#sk-container-id-3 pre{padding: 0;}#sk-container-id-3 div.sk-toggleable {background-color: white;}#sk-container-id-3 label.sk-toggleable__label {cursor: pointer;display: block;width: 100%;margin-bottom: 0;padding: 0.3em;box-sizing: border-box;text-align: center;}#sk-container-id-3 label.sk-toggleable__label-arrow:before {content: \"▸\";float: left;margin-right: 0.25em;color: #696969;}#sk-container-id-3 label.sk-toggleable__label-arrow:hover:before {color: black;}#sk-container-id-3 div.sk-estimator:hover label.sk-toggleable__label-arrow:before {color: black;}#sk-container-id-3 div.sk-toggleable__content {max-height: 0;max-width: 0;overflow: hidden;text-align: left;background-color: #f0f8ff;}#sk-container-id-3 div.sk-toggleable__content pre {margin: 0.2em;color: black;border-radius: 0.25em;background-color: #f0f8ff;}#sk-container-id-3 input.sk-toggleable__control:checked~div.sk-toggleable__content {max-height: 200px;max-width: 100%;overflow: auto;}#sk-container-id-3 input.sk-toggleable__control:checked~label.sk-toggleable__label-arrow:before {content: \"▾\";}#sk-container-id-3 div.sk-estimator input.sk-toggleable__control:checked~label.sk-toggleable__label {background-color: #d4ebff;}#sk-container-id-3 div.sk-label input.sk-toggleable__control:checked~label.sk-toggleable__label {background-color: #d4ebff;}#sk-container-id-3 input.sk-hidden--visually {border: 0;clip: rect(1px 1px 1px 1px);clip: rect(1px, 1px, 1px, 1px);height: 1px;margin: -1px;overflow: hidden;padding: 0;position: absolute;width: 1px;}#sk-container-id-3 div.sk-estimator {font-family: monospace;background-color: #f0f8ff;border: 1px dotted black;border-radius: 0.25em;box-sizing: border-box;margin-bottom: 0.5em;}#sk-container-id-3 div.sk-estimator:hover {background-color: #d4ebff;}#sk-container-id-3 div.sk-parallel-item::after {content: \"\";width: 100%;border-bottom: 1px solid gray;flex-grow: 1;}#sk-container-id-3 div.sk-label:hover label.sk-toggleable__label {background-color: #d4ebff;}#sk-container-id-3 div.sk-serial::before {content: \"\";position: absolute;border-left: 1px solid gray;box-sizing: border-box;top: 0;bottom: 0;left: 50%;z-index: 0;}#sk-container-id-3 div.sk-serial {display: flex;flex-direction: column;align-items: center;background-color: white;padding-right: 0.2em;padding-left: 0.2em;position: relative;}#sk-container-id-3 div.sk-item {position: relative;z-index: 1;}#sk-container-id-3 div.sk-parallel {display: flex;align-items: stretch;justify-content: center;background-color: white;position: relative;}#sk-container-id-3 div.sk-item::before, #sk-container-id-3 div.sk-parallel-item::before {content: \"\";position: absolute;border-left: 1px solid gray;box-sizing: border-box;top: 0;bottom: 0;left: 50%;z-index: -1;}#sk-container-id-3 div.sk-parallel-item {display: flex;flex-direction: column;z-index: 1;position: relative;background-color: white;}#sk-container-id-3 div.sk-parallel-item:first-child::after {align-self: flex-end;width: 50%;}#sk-container-id-3 div.sk-parallel-item:last-child::after {align-self: flex-start;width: 50%;}#sk-container-id-3 div.sk-parallel-item:only-child::after {width: 0;}#sk-container-id-3 div.sk-dashed-wrapped {border: 1px dashed gray;margin: 0 0.4em 0.5em 0.4em;box-sizing: border-box;padding-bottom: 0.4em;background-color: white;}#sk-container-id-3 div.sk-label label {font-family: monospace;font-weight: bold;display: inline-block;line-height: 1.2em;}#sk-container-id-3 div.sk-label-container {text-align: center;}#sk-container-id-3 div.sk-container {/* jupyter's `normalize.less` sets `[hidden] { display: none; }` but bootstrap.min.css set `[hidden] { display: none !important; }` so we also need the `!important` here to be able to override the default hidden behavior on the sphinx rendered scikit-learn.org. See: https://github.com/scikit-learn/scikit-learn/issues/21755 */display: inline-block !important;position: relative;}#sk-container-id-3 div.sk-text-repr-fallback {display: none;}</style><div id=\"sk-container-id-3\" class=\"sk-top-container\"><div class=\"sk-text-repr-fallback\"><pre>MLPClassifier(hidden_layer_sizes=(100, 50), max_iter=500, random_state=42)</pre><b>In a Jupyter environment, please rerun this cell to show the HTML representation or trust the notebook. <br />On GitHub, the HTML representation is unable to render, please try loading this page with nbviewer.org.</b></div><div class=\"sk-container\" hidden><div class=\"sk-item\"><div class=\"sk-estimator sk-toggleable\"><input class=\"sk-toggleable__control sk-hidden--visually\" id=\"sk-estimator-id-3\" type=\"checkbox\" checked><label for=\"sk-estimator-id-3\" class=\"sk-toggleable__label sk-toggleable__label-arrow\">MLPClassifier</label><div class=\"sk-toggleable__content\"><pre>MLPClassifier(hidden_layer_sizes=(100, 50), max_iter=500, random_state=42)</pre></div></div></div></div></div>"
      ],
      "text/plain": [
       "MLPClassifier(hidden_layer_sizes=(100, 50), max_iter=500, random_state=42)"
      ]
     },
     "execution_count": 91,
     "metadata": {},
     "output_type": "execute_result"
    }
   ],
   "source": [
    "# Train Amazon model\n",
    "clf_amazon = MLPClassifier(hidden_layer_sizes=(100, 50), max_iter=500, random_state=42)\n",
    "clf_amazon.fit(X_train_scaled, y_amazon_train)\n",
    "\n",
    "# Train Instasport model\n",
    "clf_instasport = MLPClassifier(hidden_layer_sizes=(100, 50), max_iter=500, random_state=42)\n",
    "clf_instasport.fit(X_train_scaled, y_instasport_train)\n"
   ]
  },
  {
   "cell_type": "code",
   "execution_count": 92,
   "id": "d80c06a1-3c5e-41f3-9dab-2ae501a4d7ee",
   "metadata": {},
   "outputs": [],
   "source": [
    "def predict_availability(title):\n",
    "    embedding = model.encode([title])\n",
    "    embedding_scaled = scaler.transform(embedding)\n",
    "    \n",
    "    amazon_prob = clf_amazon.predict_proba(embedding_scaled)[0][1]\n",
    "    instasport_prob = clf_instasport.predict_proba(embedding_scaled)[0][1]\n",
    "    \n",
    "    return {\n",
    "        'Amazon': amazon_prob,\n",
    "        'Instasport': instasport_prob\n",
    "    }"
   ]
  },
  {
   "cell_type": "code",
   "execution_count": 93,
   "id": "b227fd66-ca7c-40c5-aeb6-31ef020dea4f",
   "metadata": {},
   "outputs": [
    {
     "name": "stdout",
     "output_type": "stream",
     "text": [
      "Amazon availability distribution:\n",
      "available_amazon\n",
      "0    1.0\n",
      "Name: proportion, dtype: float64\n",
      "\n",
      "Instasport availability distribution:\n",
      "available_instasport\n",
      "0    0.98452\n",
      "1    0.01548\n",
      "Name: proportion, dtype: float64\n"
     ]
    }
   ],
   "source": [
    "print(\"Amazon availability distribution:\")\n",
    "print(df['available_amazon'].value_counts(normalize=True))\n",
    "print(\"\\nInstasport availability distribution:\")\n",
    "print(df['available_instasport'].value_counts(normalize=True))"
   ]
  },
  {
   "cell_type": "markdown",
   "id": "4e610798-53be-4c2d-8efa-c8219109aff1",
   "metadata": {},
   "source": [
    "`\r\n",
    "   This shows that 100% of the samples are labeled as 0 for Amazon availability. In other words, there are no products in your dataset that are available on Amazon (or at least, none that have a price listed for Ama\n",
    ".\r\n",
    "\r\n",
    "2. Instasport availdicates that:\r\n",
    "   - 98.452% of the samples are labeled as 0 (not available on Instasport)\r\n",
    "   - Only 1.548% of the samples are labeled as 1 (available on Instasport)\r\n",
    "\r\n",
    "These distributions reveal several important points:\r\n",
    "\r\n",
    "1. Extreme imbalance for Amazon: There's a complete absence of positive samples (available products) for Amazon. This explains why you're getting the warnings about undefined metrics. Your model can't learn to predict availability on Amazon because there are no examples of available products in your dataset.\r\n",
    "\r\n",
    "2. Severe imbalance for Instasport: While there are some positive samples for Instasport, the dataset is still highly imbalanced. With only about 1.5% of products available, this is a very skewed distribution.\r\n",
    "\r\n",
    "3. Potential data quality issues: The complete absence of Amazon availability is unusual and might indicate a data collection or processing issue. You may want to double-check your data source and preprocessing steps.\r\n",
    "\r\n",
    "4. Modeling challenges: These distributions make it very challenging to build effective predictive models:\r\n",
    "   - For Amazon, it's currently impossible to predict availability since there are no positive examples.\r\n",
    "   - For Instasport, the severe class imbalance will likely lead to a model that's biased towards predicting \"not available\" most of the time.\r\n",
    "\r\n",
    "Given these insights, you should consider the following steps:\r\n",
    "\r\n",
    "1. Verify data integrity: Ensure that the Amazon availability data is correct. If it's not, you'll need to fix the data collection or processing.\r\n",
    "\r\n",
    "2. Handle class imbalance: For Instasport, you'll need to use techniques like oversampling (e.g., SMOTE), undersampling, or adjusting class weights to address the imbalance.\r\n",
    "\r\n",
    "3. Reconsider the problem formulation: If the Amazon data is correct (i.e., truly no products are available on Amazon), you might need to reconsider including Amazon in your model. Perhaps focus on predicting Instasport availability only, or collect data from other platforms where there's more variability in availability.\r\n",
    "\r\n",
    "4. Collect more data: If possible, try to gather more data, especially for the underrepresented classes (available products).\r\n",
    "\r\n",
    "5. Feature engineering: Consider creating additional features that might help predict availability, as the produ\n",
    "\n",
    "<hr>\n",
    " can build an effective predictive model."
   ]
  },
  {
   "cell_type": "code",
   "execution_count": 95,
   "id": "88cd7eec-c643-4dfd-870f-9c8d2774ee09",
   "metadata": {},
   "outputs": [
    {
     "data": {
      "text/html": [
       "<div>\n",
       "<style scoped>\n",
       "    .dataframe tbody tr th:only-of-type {\n",
       "        vertical-align: middle;\n",
       "    }\n",
       "\n",
       "    .dataframe tbody tr th {\n",
       "        vertical-align: top;\n",
       "    }\n",
       "\n",
       "    .dataframe thead th {\n",
       "        text-align: right;\n",
       "    }\n",
       "</style>\n",
       "<table border=\"1\" class=\"dataframe\">\n",
       "  <thead>\n",
       "    <tr style=\"text-align: right;\">\n",
       "      <th></th>\n",
       "      <th>Unnamed: 0</th>\n",
       "      <th>normalized_title</th>\n",
       "      <th>offer_price_amazon</th>\n",
       "      <th>mrp_amazon</th>\n",
       "      <th>offer_price_prokick</th>\n",
       "      <th>mrp_prokick</th>\n",
       "      <th>offer_price_instasports</th>\n",
       "      <th>mrp</th>\n",
       "      <th>clean_title</th>\n",
       "      <th>color</th>\n",
       "      <th>pack_size</th>\n",
       "      <th>limited_edition</th>\n",
       "      <th>speed</th>\n",
       "    </tr>\n",
       "  </thead>\n",
       "  <tbody>\n",
       "    <tr>\n",
       "      <th>0</th>\n",
       "      <td>0</td>\n",
       "      <td>li-ning turbo strung badminton racket</td>\n",
       "      <td>1699.00</td>\n",
       "      <td>3890.0</td>\n",
       "      <td>NaN</td>\n",
       "      <td>NaN</td>\n",
       "      <td>NaN</td>\n",
       "      <td>NaN</td>\n",
       "      <td>li-ning turbo strung badminton racket</td>\n",
       "      <td>NaN</td>\n",
       "      <td>NaN</td>\n",
       "      <td>No</td>\n",
       "      <td>NaN</td>\n",
       "    </tr>\n",
       "    <tr>\n",
       "      <th>1</th>\n",
       "      <td>1</td>\n",
       "      <td>li-ning turbo strung badminton racket</td>\n",
       "      <td>1563.08</td>\n",
       "      <td>3890.0</td>\n",
       "      <td>NaN</td>\n",
       "      <td>NaN</td>\n",
       "      <td>NaN</td>\n",
       "      <td>NaN</td>\n",
       "      <td>li-ning turbo strung badminton racket</td>\n",
       "      <td>NaN</td>\n",
       "      <td>NaN</td>\n",
       "      <td>No</td>\n",
       "      <td>NaN</td>\n",
       "    </tr>\n",
       "    <tr>\n",
       "      <th>2</th>\n",
       "      <td>2</td>\n",
       "      <td>li-ning turbo strung badminton racket</td>\n",
       "      <td>1441.28</td>\n",
       "      <td>3890.0</td>\n",
       "      <td>NaN</td>\n",
       "      <td>NaN</td>\n",
       "      <td>NaN</td>\n",
       "      <td>NaN</td>\n",
       "      <td>li-ning turbo strung badminton racket</td>\n",
       "      <td>NaN</td>\n",
       "      <td>NaN</td>\n",
       "      <td>No</td>\n",
       "      <td>NaN</td>\n",
       "    </tr>\n",
       "    <tr>\n",
       "      <th>3</th>\n",
       "      <td>3</td>\n",
       "      <td>li-ning turbo strung badminton racket</td>\n",
       "      <td>1554.55</td>\n",
       "      <td>3890.0</td>\n",
       "      <td>NaN</td>\n",
       "      <td>NaN</td>\n",
       "      <td>NaN</td>\n",
       "      <td>NaN</td>\n",
       "      <td>li-ning turbo strung badminton racket</td>\n",
       "      <td>NaN</td>\n",
       "      <td>NaN</td>\n",
       "      <td>No</td>\n",
       "      <td>NaN</td>\n",
       "    </tr>\n",
       "    <tr>\n",
       "      <th>4</th>\n",
       "      <td>4</td>\n",
       "      <td>li-ning turbo strung badminton racket</td>\n",
       "      <td>1444.15</td>\n",
       "      <td>3890.0</td>\n",
       "      <td>NaN</td>\n",
       "      <td>NaN</td>\n",
       "      <td>NaN</td>\n",
       "      <td>NaN</td>\n",
       "      <td>li-ning turbo strung badminton racket</td>\n",
       "      <td>NaN</td>\n",
       "      <td>NaN</td>\n",
       "      <td>No</td>\n",
       "      <td>NaN</td>\n",
       "    </tr>\n",
       "  </tbody>\n",
       "</table>\n",
       "</div>"
      ],
      "text/plain": [
       "   Unnamed: 0                       normalized_title  offer_price_amazon  \\\n",
       "0           0  li-ning turbo strung badminton racket             1699.00   \n",
       "1           1  li-ning turbo strung badminton racket             1563.08   \n",
       "2           2  li-ning turbo strung badminton racket             1441.28   \n",
       "3           3  li-ning turbo strung badminton racket             1554.55   \n",
       "4           4  li-ning turbo strung badminton racket             1444.15   \n",
       "\n",
       "   mrp_amazon  offer_price_prokick  mrp_prokick  offer_price_instasports  mrp  \\\n",
       "0      3890.0                  NaN          NaN                      NaN  NaN   \n",
       "1      3890.0                  NaN          NaN                      NaN  NaN   \n",
       "2      3890.0                  NaN          NaN                      NaN  NaN   \n",
       "3      3890.0                  NaN          NaN                      NaN  NaN   \n",
       "4      3890.0                  NaN          NaN                      NaN  NaN   \n",
       "\n",
       "                             clean_title color pack_size limited_edition speed  \n",
       "0  li-ning turbo strung badminton racket   NaN       NaN              No   NaN  \n",
       "1  li-ning turbo strung badminton racket   NaN       NaN              No   NaN  \n",
       "2  li-ning turbo strung badminton racket   NaN       NaN              No   NaN  \n",
       "3  li-ning turbo strung badminton racket   NaN       NaN              No   NaN  \n",
       "4  li-ning turbo strung badminton racket   NaN       NaN              No   NaN  "
      ]
     },
     "execution_count": 95,
     "metadata": {},
     "output_type": "execute_result"
    }
   ],
   "source": [
    "df_training=pd.read_csv(\"attribute.csv\")\n",
    "df_training.head()"
   ]
  },
  {
   "cell_type": "code",
   "execution_count": 97,
   "id": "6a1e9ea7-c3f2-4122-817b-ffb23676e922",
   "metadata": {},
   "outputs": [],
   "source": [
    "df_training = df_training.loc[:, ~df_training.columns.str.contains('^Unnamed')]\n",
    "df_training = df_training.reset_index(drop=True)"
   ]
  },
  {
   "cell_type": "code",
   "execution_count": 98,
   "id": "20c7ad7d-523e-405f-8e01-28d2dcfed0bf",
   "metadata": {},
   "outputs": [
    {
     "data": {
      "text/plain": [
       "(2433, 12)"
      ]
     },
     "execution_count": 98,
     "metadata": {},
     "output_type": "execute_result"
    }
   ],
   "source": [
    "df_training.shape"
   ]
  },
  {
   "cell_type": "code",
   "execution_count": 99,
   "id": "2861c156-aa8f-4c48-9656-9bb5304e0b16",
   "metadata": {},
   "outputs": [],
   "source": [
    "df_training['available_amazon'] = df_training['offer_price_amazon'].notna().astype(int)\n",
    "df_training['available_instasport'] = df_training['offer_price_instasports'].notna().astype(int)"
   ]
  },
  {
   "cell_type": "code",
   "execution_count": 100,
   "id": "f13aacb1-3626-472b-ac58-6e743de7ac2c",
   "metadata": {},
   "outputs": [],
   "source": [
    "embeddings = model.encode(df_training['clean_title'].tolist())"
   ]
  },
  {
   "cell_type": "code",
   "execution_count": 101,
   "id": "082b6f2a-4d12-4b74-bb91-42d4a26d51fd",
   "metadata": {},
   "outputs": [],
   "source": [
    "X = embeddings\n",
    "y_amazon = df_training['available_amazon']\n",
    "y_instasport = df_training['available_instasport']\n",
    "\n",
    "X_train, X_test, y_amazon_train, y_amazon_test, y_instasport_train, y_instasport_test = train_test_split(\n",
    "    X, y_amazon, y_instasport, test_size=0.2, random_state=42\n",
    ")\n",
    "scaler = StandardScaler()\n",
    "X_train_scaled = scaler.fit_transform(X_train)\n",
    "X_test_scaled = scaler.transform(X_test)"
   ]
  },
  {
   "cell_type": "code",
   "execution_count": 102,
   "id": "9b59b54b-00f3-4b2b-8148-3d8d9a529774",
   "metadata": {},
   "outputs": [
    {
     "data": {
      "text/html": [
       "<style>#sk-container-id-4 {color: black;background-color: white;}#sk-container-id-4 pre{padding: 0;}#sk-container-id-4 div.sk-toggleable {background-color: white;}#sk-container-id-4 label.sk-toggleable__label {cursor: pointer;display: block;width: 100%;margin-bottom: 0;padding: 0.3em;box-sizing: border-box;text-align: center;}#sk-container-id-4 label.sk-toggleable__label-arrow:before {content: \"▸\";float: left;margin-right: 0.25em;color: #696969;}#sk-container-id-4 label.sk-toggleable__label-arrow:hover:before {color: black;}#sk-container-id-4 div.sk-estimator:hover label.sk-toggleable__label-arrow:before {color: black;}#sk-container-id-4 div.sk-toggleable__content {max-height: 0;max-width: 0;overflow: hidden;text-align: left;background-color: #f0f8ff;}#sk-container-id-4 div.sk-toggleable__content pre {margin: 0.2em;color: black;border-radius: 0.25em;background-color: #f0f8ff;}#sk-container-id-4 input.sk-toggleable__control:checked~div.sk-toggleable__content {max-height: 200px;max-width: 100%;overflow: auto;}#sk-container-id-4 input.sk-toggleable__control:checked~label.sk-toggleable__label-arrow:before {content: \"▾\";}#sk-container-id-4 div.sk-estimator input.sk-toggleable__control:checked~label.sk-toggleable__label {background-color: #d4ebff;}#sk-container-id-4 div.sk-label input.sk-toggleable__control:checked~label.sk-toggleable__label {background-color: #d4ebff;}#sk-container-id-4 input.sk-hidden--visually {border: 0;clip: rect(1px 1px 1px 1px);clip: rect(1px, 1px, 1px, 1px);height: 1px;margin: -1px;overflow: hidden;padding: 0;position: absolute;width: 1px;}#sk-container-id-4 div.sk-estimator {font-family: monospace;background-color: #f0f8ff;border: 1px dotted black;border-radius: 0.25em;box-sizing: border-box;margin-bottom: 0.5em;}#sk-container-id-4 div.sk-estimator:hover {background-color: #d4ebff;}#sk-container-id-4 div.sk-parallel-item::after {content: \"\";width: 100%;border-bottom: 1px solid gray;flex-grow: 1;}#sk-container-id-4 div.sk-label:hover label.sk-toggleable__label {background-color: #d4ebff;}#sk-container-id-4 div.sk-serial::before {content: \"\";position: absolute;border-left: 1px solid gray;box-sizing: border-box;top: 0;bottom: 0;left: 50%;z-index: 0;}#sk-container-id-4 div.sk-serial {display: flex;flex-direction: column;align-items: center;background-color: white;padding-right: 0.2em;padding-left: 0.2em;position: relative;}#sk-container-id-4 div.sk-item {position: relative;z-index: 1;}#sk-container-id-4 div.sk-parallel {display: flex;align-items: stretch;justify-content: center;background-color: white;position: relative;}#sk-container-id-4 div.sk-item::before, #sk-container-id-4 div.sk-parallel-item::before {content: \"\";position: absolute;border-left: 1px solid gray;box-sizing: border-box;top: 0;bottom: 0;left: 50%;z-index: -1;}#sk-container-id-4 div.sk-parallel-item {display: flex;flex-direction: column;z-index: 1;position: relative;background-color: white;}#sk-container-id-4 div.sk-parallel-item:first-child::after {align-self: flex-end;width: 50%;}#sk-container-id-4 div.sk-parallel-item:last-child::after {align-self: flex-start;width: 50%;}#sk-container-id-4 div.sk-parallel-item:only-child::after {width: 0;}#sk-container-id-4 div.sk-dashed-wrapped {border: 1px dashed gray;margin: 0 0.4em 0.5em 0.4em;box-sizing: border-box;padding-bottom: 0.4em;background-color: white;}#sk-container-id-4 div.sk-label label {font-family: monospace;font-weight: bold;display: inline-block;line-height: 1.2em;}#sk-container-id-4 div.sk-label-container {text-align: center;}#sk-container-id-4 div.sk-container {/* jupyter's `normalize.less` sets `[hidden] { display: none; }` but bootstrap.min.css set `[hidden] { display: none !important; }` so we also need the `!important` here to be able to override the default hidden behavior on the sphinx rendered scikit-learn.org. See: https://github.com/scikit-learn/scikit-learn/issues/21755 */display: inline-block !important;position: relative;}#sk-container-id-4 div.sk-text-repr-fallback {display: none;}</style><div id=\"sk-container-id-4\" class=\"sk-top-container\"><div class=\"sk-text-repr-fallback\"><pre>MLPClassifier(hidden_layer_sizes=(100, 50), max_iter=500, random_state=42)</pre><b>In a Jupyter environment, please rerun this cell to show the HTML representation or trust the notebook. <br />On GitHub, the HTML representation is unable to render, please try loading this page with nbviewer.org.</b></div><div class=\"sk-container\" hidden><div class=\"sk-item\"><div class=\"sk-estimator sk-toggleable\"><input class=\"sk-toggleable__control sk-hidden--visually\" id=\"sk-estimator-id-4\" type=\"checkbox\" checked><label for=\"sk-estimator-id-4\" class=\"sk-toggleable__label sk-toggleable__label-arrow\">MLPClassifier</label><div class=\"sk-toggleable__content\"><pre>MLPClassifier(hidden_layer_sizes=(100, 50), max_iter=500, random_state=42)</pre></div></div></div></div></div>"
      ],
      "text/plain": [
       "MLPClassifier(hidden_layer_sizes=(100, 50), max_iter=500, random_state=42)"
      ]
     },
     "execution_count": 102,
     "metadata": {},
     "output_type": "execute_result"
    }
   ],
   "source": [
    "# Train Amazon model\n",
    "clf_amazon = MLPClassifier(hidden_layer_sizes=(100, 50), max_iter=500, random_state=42)\n",
    "clf_amazon.fit(X_train_scaled, y_amazon_train)\n",
    "\n",
    "# Train Instasport model\n",
    "clf_instasport = MLPClassifier(hidden_layer_sizes=(100, 50), max_iter=500, random_state=42)\n",
    "clf_instasport.fit(X_train_scaled, y_instasport_train)\n"
   ]
  },
  {
   "cell_type": "code",
   "execution_count": 103,
   "id": "0d93267b-8f17-453b-bc49-ef4d4056a121",
   "metadata": {},
   "outputs": [],
   "source": [
    "def predict_availability(title):\n",
    "    embedding = model.encode([title])\n",
    "    embedding_scaled = scaler.transform(embedding)\n",
    "    \n",
    "    amazon_prob = clf_amazon.predict_proba(embedding_scaled)[0][1]\n",
    "    instasport_prob = clf_instasport.predict_proba(embedding_scaled)[0][1]\n",
    "    \n",
    "    return {\n",
    "        'Amazon': amazon_prob,\n",
    "        'Instasport': instasport_prob\n",
    "    }"
   ]
  },
  {
   "cell_type": "code",
   "execution_count": 104,
   "id": "eebff062-f904-4772-bfa3-877c8bca27a9",
   "metadata": {},
   "outputs": [
    {
     "data": {
      "text/plain": [
       "Index(['normalized_title', 'offer_price_amazon', 'mrp_amazon',\n",
       "       'offer_price_prokick', 'mrp_prokick', 'offer_price_instasports', 'mrp',\n",
       "       'clean_title', 'color', 'pack_size', 'limited_edition', 'speed',\n",
       "       'available_amazon', 'available_instasport'],\n",
       "      dtype='object')"
      ]
     },
     "execution_count": 104,
     "metadata": {},
     "output_type": "execute_result"
    }
   ],
   "source": [
    "df_training.columns"
   ]
  },
  {
   "cell_type": "code",
   "execution_count": 111,
   "id": "4f6c2526-6388-4348-b2e3-ac7885d47aa7",
   "metadata": {},
   "outputs": [],
   "source": [
    "df_training.to_csv(\"df_training.csv\")"
   ]
  },
  {
   "cell_type": "code",
   "execution_count": 116,
   "id": "619d469e-63bb-4069-8e7c-4df4fce9712e",
   "metadata": {},
   "outputs": [
    {
     "name": "stdout",
     "output_type": "stream",
     "text": [
      "Amazon availability overall distribution:\n",
      "available_amazon\n",
      "0    0.870941\n",
      "1    0.129059\n",
      "Name: proportion, dtype: float64\n",
      "\n",
      "Instasport availability overall distribution:\n",
      "available_instasport\n",
      "1    0.739005\n",
      "0    0.260995\n",
      "Name: proportion, dtype: float64\n"
     ]
    }
   ],
   "source": [
    "print(\"Amazon availability overall distribution:\")\n",
    "print(df_training['available_amazon'].value_counts(normalize=True))\n",
    "print(\"\\nInstasport availability overall distribution:\")\n",
    "print(df_training['available_instasport'].value_counts(normalize=True))"
   ]
  },
  {
   "cell_type": "code",
   "execution_count": 117,
   "id": "373aafd2-a875-4c11-8ef3-ba600413efac",
   "metadata": {},
   "outputs": [],
   "source": [
    "y_amazon_pred = clf_amazon.predict(X_test_scaled)\n",
    "amazon_accuracy = accuracy_score(y_amazon_test, y_amazon_pred)\n",
    "amazon_f1 = f1_score(y_amazon_test, y_amazon_pred)\n",
    "amazon_precision = precision_score(y_amazon_test, y_amazon_pred)\n",
    "amazon_recall = recall_score(y_amazon_test, y_amazon_pred)"
   ]
  },
  {
   "cell_type": "code",
   "execution_count": 118,
   "id": "bfc7a43f-f1f0-4e18-9670-1f67b1bc5142",
   "metadata": {},
   "outputs": [],
   "source": [
    "y_instasport_pred = clf_instasport.predict(X_test_scaled)\n",
    "instasport_accuracy = accuracy_score(y_instasport_test, y_instasport_pred)\n",
    "instasport_f1 = f1_score(y_instasport_test, y_instasport_pred)\n",
    "instasport_precision = precision_score(y_instasport_test, y_instasport_pred)\n",
    "instasport_recall = recall_score(y_instasport_test, y_instasport_pred)"
   ]
  },
  {
   "cell_type": "code",
   "execution_count": 119,
   "id": "72d4da82-7818-49a7-816c-02eadd92faa9",
   "metadata": {},
   "outputs": [
    {
     "name": "stdout",
     "output_type": "stream",
     "text": [
      "Amazon Model Metrics:\n",
      "Accuracy: 0.9630\n",
      "F1 Score: 0.8548\n",
      "Precision: 0.9138\n",
      "Recall: 0.8030\n"
     ]
    }
   ],
   "source": [
    "print(\"Amazon Model Metrics:\")\n",
    "print(f\"Accuracy: {amazon_accuracy:.4f}\")\n",
    "print(f\"F1 Score: {amazon_f1:.4f}\")\n",
    "print(f\"Precision: {amazon_precision:.4f}\")\n",
    "print(f\"Recall: {amazon_recall:.4f}\")"
   ]
  },
  {
   "cell_type": "code",
   "execution_count": 120,
   "id": "4fde106f-a795-4a8c-9124-a19e5b3670ca",
   "metadata": {},
   "outputs": [
    {
     "name": "stdout",
     "output_type": "stream",
     "text": [
      "\n",
      "Instasport Model Metrics:\n",
      "Accuracy: 0.9671\n",
      "F1 Score: 0.9774\n",
      "Precision: 0.9638\n",
      "Recall: 0.9914\n"
     ]
    }
   ],
   "source": [
    "print(\"\\nInstasport Model Metrics:\")\n",
    "print(f\"Accuracy: {instasport_accuracy:.4f}\")\n",
    "print(f\"F1 Score: {instasport_f1:.4f}\")\n",
    "print(f\"Precision: {instasport_precision:.4f}\")\n",
    "print(f\"Recall: {instasport_recall:.4f}\")"
   ]
  },
  {
   "cell_type": "code",
   "execution_count": 121,
   "id": "9ca3c009-ad09-4328-8458-2cff6d685802",
   "metadata": {},
   "outputs": [],
   "source": [
    "# clf_amazon = joblib.load('clf_amazon.joblib')\n",
    "# clf_instasport = joblib.load('clf_instasport.joblib')\n",
    "# scaler = joblib.load('scaler.joblib')\n",
    "\n",
    "# @st.cache(allow_output_mutation=True)\n",
    "# def load_model():\n",
    "#     return SentenceTransformer('paraphrase-MiniLM-L6-v2')\n",
    "\n",
    "# model = load_model()"
   ]
  },
  {
   "cell_type": "code",
   "execution_count": 122,
   "id": "6a4b85a2-507f-4e4c-a727-950755b39679",
   "metadata": {},
   "outputs": [
    {
     "name": "stdin",
     "output_type": "stream",
     "text": [
      "Enter a product name (or 'quit' to exit):  quit\n"
     ]
    },
    {
     "name": "stdout",
     "output_type": "stream",
     "text": [
      "Thank you for using the product availability predictor!\n"
     ]
    }
   ],
   "source": [
    "def predict_availability(title):\n",
    "    embedding = model.encode([title])\n",
    "    embedding_scaled = scaler.transform(embedding)\n",
    "    # Predict probabilities for Amazon and Instasport\n",
    "    amazon_prob = clf_amazon.predict_proba(embedding_scaled)[0][1]\n",
    "    instasport_prob = clf_instasport.predict_proba(embedding_scaled)[0][1]\n",
    "    avg_confidence = (amazon_prob + instasport_prob) / 2\n",
    "    \n",
    "    return amazon_prob, instasport_prob, avg_confidence\n",
    "\n",
    "def get_availability_status(probability):\n",
    "    if probability > 0.7:\n",
    "        return \"Highly likely to be available\"\n",
    "    elif probability > 0.3:\n",
    "        return \"May be available\"\n",
    "    else:\n",
    "        return \"Unlikely to be available\"\n",
    "\n",
    "# User interface\n",
    "while True:\n",
    "    user_input = input(\"Enter a product name (or 'quit' to exit): \")\n",
    "    \n",
    "    if user_input.lower() == 'quit':\n",
    "        break\n",
    "    \n",
    "    amazon_prob, instasport_prob, avg_confidence = predict_availability(user_input)\n",
    "    \n",
    "    print(f\"\\nPredictions for '{user_input}':\")\n",
    "    print(f\"Amazon: {amazon_prob:.2%} - {get_availability_status(amazon_prob)}\")\n",
    "    print(f\"Instasport: {instasport_prob:.2%} - {get_availability_status(instasport_prob)}\")\n",
    "    print(f\"Average confidence: {avg_confidence:.2%}\")\n",
    "    print()\n",
    "\n",
    "print(\"Thank you for using the product availability predictor!\")"
   ]
  },
  {
   "cell_type": "code",
   "execution_count": 123,
   "id": "dd5f827f-fc9a-4770-8c37-8de84227e756",
   "metadata": {},
   "outputs": [
    {
     "data": {
      "text/plain": [
       "['scaler.joblib']"
      ]
     },
     "execution_count": 123,
     "metadata": {},
     "output_type": "execute_result"
    }
   ],
   "source": [
    "import joblib\n",
    "joblib.dump(clf_amazon, 'clf_amazon.joblib')\n",
    "joblib.dump(clf_instasport, 'clf_instasport.joblib')\n",
    "joblib.dump(scaler, 'scaler.joblib')"
   ]
  },
  {
   "cell_type": "code",
   "execution_count": null,
   "id": "b492227d-a549-4a68-9bbf-6dc68517f4de",
   "metadata": {},
   "outputs": [],
   "source": []
  },
  {
   "cell_type": "code",
   "execution_count": null,
   "id": "96122c7b-9ede-415e-a135-962e1dc9334a",
   "metadata": {},
   "outputs": [],
   "source": []
  }
 ],
 "metadata": {
  "kernelspec": {
   "display_name": "Python 3 (ipykernel)",
   "language": "python",
   "name": "python3"
  },
  "language_info": {
   "codemirror_mode": {
    "name": "ipython",
    "version": 3
   },
   "file_extension": ".py",
   "mimetype": "text/x-python",
   "name": "python",
   "nbconvert_exporter": "python",
   "pygments_lexer": "ipython3",
   "version": "3.11.7"
  }
 },
 "nbformat": 4,
 "nbformat_minor": 5
}
