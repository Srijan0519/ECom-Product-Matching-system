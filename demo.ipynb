{
 "cells": [
  {
   "cell_type": "code",
   "execution_count": null,
   "id": "e0fe4b10-45bf-42dd-bd47-7c2e0147a656",
   "metadata": {},
   "outputs": [],
   "source": []
  },
  {
   "cell_type": "code",
   "execution_count": 23,
   "id": "39d73788-c6fc-4974-8915-89e4d70717e7",
   "metadata": {},
   "outputs": [],
   "source": [
    "import pickle\n",
    "from transformers import BertForSequenceClassification, BertTokenizer\n",
    "\n",
    "# Load the model\n",
    "with open('combined_model.pkl', 'rb') as f:\n",
    "    model = pickle.load(f)\n",
    "\n",
    "# Load the tokenizer\n",
    "with open('tokenizer.pkl', 'rb') as f:\n",
    "    tokenizer = pickle.load(f)"
   ]
  },
  {
   "cell_type": "code",
   "execution_count": 9,
   "id": "c368a18a-69c3-4056-af34-905ef1c2bd0c",
   "metadata": {},
   "outputs": [
    {
     "name": "stdin",
     "output_type": "stream",
     "text": [
      "Enter the product title as seen on Prokick (or 'quit' to exit):  li-ning xp90 iv strung badminton racquet, white/silver\n"
     ]
    },
    {
     "name": "stdout",
     "output_type": "stream",
     "text": [
      "\n",
      "Number of suitable matches found: 5\n",
      "\n",
      "Available as:\n",
      "- Li-Ning XIPHOS X1 Unstrung Badminton Racquet , Red/Silver (on Prokick, confidence: 1.00)\n",
      "- Li-Ning XP80 IV Strung Badminton Racquet, Grey/Green (on Prokick, confidence: 1.00)\n",
      "- Li-Ning XP70 IV Strung Badminton Racquet, Black/Gold (on Prokick, confidence: 1.00)\n",
      "- Li-Ning XIPHOS X1 Unstrung Badminton Racquet , White/Silver (on Prokick, confidence: 1.00)\n",
      "- Li-Ning XP90 IV Strung Badminton Racquet, White/Silver (on Prokick, confidence: 1.00)\n",
      "\n",
      "\n"
     ]
    },
    {
     "name": "stdin",
     "output_type": "stream",
     "text": [
      "Enter the product title as seen on Prokick (or 'quit' to exit):  victor a220 a all- round professional badminton shoes with u- shape 2.5\n"
     ]
    },
    {
     "name": "stdout",
     "output_type": "stream",
     "text": [
      "\n",
      "Number of suitable matches found: 6\n",
      "\n",
      "Available as:\n",
      "- Victor A220 A All- Round Professional Badminton Shoes with U- Shape 2.5 (on Instasports, confidence: 1.00)\n",
      "- Victor A530 AB All Around Professional Badminton Shoes - V shape (on Instasports, confidence: 1.00)\n",
      "- Victor S70 A Speed Series Professional Badminton Shoes with V - Shape 2.5 (on Instasports, confidence: 1.00)\n",
      "- Victor A670 F All- Round Professional Badminton Shoes (on Instasports, confidence: 1.00)\n",
      "- Victor A220 B All- Round Professional Badminton Shoes with U- Shape 2.5 (on Instasports, confidence: 1.00)\n",
      "- Victor A930  D All- Round Professional Badminton Shoes (on Instasports, confidence: 1.00)\n",
      "\n",
      "\n"
     ]
    },
    {
     "name": "stdin",
     "output_type": "stream",
     "text": [
      "Enter the product title as seen on Prokick (or 'quit' to exit):  nivia carbonite 6.0 football stud - yellow\n"
     ]
    },
    {
     "name": "stdout",
     "output_type": "stream",
     "text": [
      "\n",
      "Number of suitable matches found: 9\n",
      "\n",
      "Available as:\n",
      "- Nivia Carbonite 6.0 Football Stud - Yellow (on Instasports, confidence: 1.00)\n",
      "- Nivia Carbonite 6.0 Football Stud - Pink (on Instasports, confidence: 1.00)\n",
      "- Nivia Carbonite 5.0 Pro Football Stud - Blue (on Instasports, confidence: 1.00)\n",
      "- Nivia Carbonite 6.0 Football Stud - Black (on Instasports, confidence: 1.00)\n",
      "- Nivia Carbonite 5.0 Pro Football Stud (on Instasports, confidence: 1.00)\n",
      "- Nivia Carbonite 5.0 Pro Football Stud - Black (on Instasports, confidence: 1.00)\n",
      "- Nivia Carbonite 5.0 Football Stud - Yellow (on Instasports, confidence: 1.00)\n",
      "- Nivia Carbonite 5.0 Football Stud - Blue (on Instasports, confidence: 1.00)\n",
      "- Nivia Carbonite 5.0 Football Stud - Black (on Instasports, confidence: 1.00)\n",
      "\n",
      "\n"
     ]
    },
    {
     "name": "stdin",
     "output_type": "stream",
     "text": [
      "Enter the product title as seen on Prokick (or 'quit' to exit):  new balance heritage 590 english willow cricket bat -sh\n"
     ]
    },
    {
     "name": "stdout",
     "output_type": "stream",
     "text": [
      "\n",
      "Number of suitable matches found: 25\n",
      "\n",
      "Available as:\n",
      "- New Balance Heritage 570 English Willow Cricket Bat -SH (on Instasports, confidence: 1.00)\n",
      "- New Balance Heritage 570+ English Willow Cricket Bat -SH (on Instasports, confidence: 1.00)\n",
      "- New Balance Heritage 590 English Willow Cricket Bat -SH (on Instasports, confidence: 1.00)\n",
      "- New Balance Heritage 840 English Willow Cricket Bat -SH (on Instasports, confidence: 1.00)\n",
      "- New Balance Burn 570 English Willow Cricket Bat -SH (on Instasports, confidence: 1.00)\n",
      "- New Balance Burn 590 English Willow Cricket Bat -SH (on Instasports, confidence: 1.00)\n",
      "- New Balance Burn 570+ English Willow Cricket Bat -SH (on Instasports, confidence: 1.00)\n",
      "- New Balance Burn 840 English Willow Cricket Bat -SH (on Instasports, confidence: 1.00)\n",
      "- New Balance TC 570+ English Willow Cricket Bat -SH (on Instasports, confidence: 1.00)\n",
      "- New Balance TC 840 English Willow Cricket Bat -SH (on Instasports, confidence: 1.00)\n",
      "- New Balance TC 740 English Willow Cricket Bat -SH (on Instasports, confidence: 1.00)\n",
      "- New Balance DC 570+ English Willow Cricket Bat -SH (on Instasports, confidence: 1.00)\n",
      "- New Balance DC 640 English Willow Cricket Bat -SH (on Instasports, confidence: 1.00)\n",
      "- New Balance DC 740 English Willow Cricket Bat -SH (on Instasports, confidence: 1.00)\n",
      "- New Balance DC 840 English Willow Cricket Bat -SH (on Instasports, confidence: 1.00)\n",
      "- New Balance DC 1140 English Willow Cricket Bat -SH (on Instasports, confidence: 1.00)\n",
      "- New Balance DC 1040 English Willow Cricket Bat -SH (on Instasports, confidence: 1.00)\n",
      "- New Balance DC 1280 English Willow Cricket Bat -SH (on Instasports, confidence: 1.00)\n",
      "- New Balance Heritage 390 Kashmir Willow Cricket Bat -SH (on Instasports, confidence: 1.00)\n",
      "- New Balance Heritage 470 Kashmir Willow Cricket Bat -SH (on Instasports, confidence: 1.00)\n",
      "- New Balance TC 570 English Willow Cricket Bat -SH (on Instasports, confidence: 1.00)\n",
      "- New Balance TC 640 English Willow Cricket Bat -SH (on Instasports, confidence: 1.00)\n",
      "- New Balance TC 590 English Willow Cricket Bat -SH (on Instasports, confidence: 1.00)\n",
      "- New Balance TC 1040 English Willow Cricket Bat -SH (on Instasports, confidence: 1.00)\n",
      "- New Balance DC 570 English Willow Cricket Bat -SH (on Instasports, confidence: 1.00)\n",
      "\n",
      "\n"
     ]
    },
    {
     "name": "stdin",
     "output_type": "stream",
     "text": [
      "Enter the product title as seen on Prokick (or 'quit' to exit):  li-ning 260 wristband (black)\n"
     ]
    },
    {
     "name": "stdout",
     "output_type": "stream",
     "text": [
      "\n",
      "Number of suitable matches found: 1\n",
      "\n",
      "Available as:\n",
      "- Li-Ning 260 Wristband (Black) (on Amazon, confidence: 1.00)\n",
      "\n",
      "\n"
     ]
    },
    {
     "name": "stdin",
     "output_type": "stream",
     "text": [
      "Enter the product title as seen on Prokick (or 'quit' to exit):  exit\n"
     ]
    },
    {
     "name": "stdout",
     "output_type": "stream",
     "text": [
      "\n",
      "Number of suitable matches found: 0\n",
      "No matches found on other platforms.\n",
      "\n",
      "\n"
     ]
    },
    {
     "name": "stdin",
     "output_type": "stream",
     "text": [
      "Enter the product title as seen on Prokick (or 'quit' to exit):  quit\n"
     ]
    }
   ],
   "source": [
    "import os\n",
    "import pandas as pd\n",
    "import torch\n",
    "import pickle\n",
    "from fuzzywuzzy import fuzz\n",
    "\n",
    "# Set the directory path here\n",
    "DIRECTORY_PATH = \"C:/Users/HP/Desktop/ecom/Inputs\"\n",
    "\n",
    "# Load the model and tokenizer\n",
    "with open('combined_model.pkl', 'rb') as f:\n",
    "    model = pickle.load(f)\n",
    "\n",
    "with open('tokenizer.pkl', 'rb') as f:\n",
    "    tokenizer = pickle.load(f)\n",
    "\n",
    "def load_datasets(directory_path):\n",
    "    all_dataframes = []\n",
    "    for filename in os.listdir(directory_path):\n",
    "        if filename.endswith('.csv'):\n",
    "            file_path = os.path.join(directory_path, filename)\n",
    "            try:\n",
    "                df = pd.read_csv(file_path, encoding='latin1')\n",
    "                df['platform'] = os.path.splitext(filename)[0]  # Use filename (without extension) as platform name\n",
    "                all_dataframes.append(df)\n",
    "            except Exception as e:\n",
    "                print(f\"Error reading {filename}: {e}\")\n",
    "    \n",
    "    if not all_dataframes:\n",
    "        raise ValueError(\"No valid CSV files found in the specified directory.\")\n",
    "    \n",
    "    return pd.concat(all_dataframes, ignore_index=True)\n",
    "\n",
    "def predict(text):\n",
    "    inputs = tokenizer(text, return_tensors=\"pt\", truncation=True, padding=True)\n",
    "    model.eval()\n",
    "    with torch.no_grad():\n",
    "        outputs = model(**inputs)\n",
    "        logits = outputs.logits\n",
    "        probabilities = torch.softmax(logits, dim=1)\n",
    "        predicted_class = torch.argmax(probabilities, dim=1).item()\n",
    "    return predicted_class, probabilities[0][predicted_class].item()\n",
    "\n",
    "def find_matches(prokick_title, all_products, threshold=80):\n",
    "    matches = []\n",
    "    for index, row in all_products.iterrows():\n",
    "        similarity = fuzz.ratio(prokick_title.lower(), row['title'].lower())\n",
    "        if similarity >= threshold:\n",
    "            predicted_class, confidence = predict(row['title'])\n",
    "            if predicted_class == 1:  # 1 indicates availability\n",
    "                matches.append((row['title'], row['platform'], confidence))\n",
    "    return matches\n",
    "\n",
    "def main():\n",
    "    # Load all products once at the beginning\n",
    "    all_products = load_datasets(DIRECTORY_PATH)\n",
    "    \n",
    "    while True:\n",
    "        prokick_title = input(\"Enter the product title as seen on Prokick (or 'quit' to exit): \")\n",
    "        if prokick_title.lower() == 'quit':\n",
    "            break\n",
    "        \n",
    "        matches = find_matches(prokick_title, all_products)\n",
    "        \n",
    "        print(f\"\\nNumber of suitable matches found: {len(matches)}\")\n",
    "        if matches:\n",
    "            print(\"\\nAvailable as:\")\n",
    "            for title, platform, confidence in matches:\n",
    "                print(f\"- {title} (on {platform}, confidence: {confidence:.2f})\")\n",
    "        else:\n",
    "            print(\"No matches found on other platforms.\")\n",
    "        print(\"\\n\")\n",
    "\n",
    "if __name__ == \"__main__\":\n",
    "    main()"
   ]
  },
  {
   "cell_type": "code",
   "execution_count": null,
   "id": "9618abdb-c645-4733-88c1-f4d368014dbd",
   "metadata": {},
   "outputs": [
    {
     "name": "stdout",
     "output_type": "stream",
     "text": [
      "Evaluating model performance...\n"
     ]
    },
    {
     "name": "stderr",
     "output_type": "stream",
     "text": [
      "C:\\Users\\HP\\anaconda3\\Lib\\site-packages\\sklearn\\metrics\\_classification.py:1344: UndefinedMetricWarning: Precision is ill-defined and being set to 0.0 in labels with no predicted samples. Use `zero_division` parameter to control this behavior.\n",
      "  _warn_prf(average, modifier, msg_start, len(result))\n"
     ]
    },
    {
     "name": "stdout",
     "output_type": "stream",
     "text": [
      "F1 Score: 0.3333\n",
      "Precision: 0.2500\n",
      "Recall: 0.5000\n",
      "Note: These metrics are based on assumed true labels and may not reflect actual performance.\n",
      "\n",
      "Product Search\n"
     ]
    },
    {
     "name": "stdin",
     "output_type": "stream",
     "text": [
      "Enter the product title as seen on Prokick (or 'quit' to exit):  li-ning super series 900 strung badminton racket with free full cover (84 grams, red/grey)\n"
     ]
    },
    {
     "name": "stdout",
     "output_type": "stream",
     "text": [
      "\n",
      "Number of suitable matches found: 2\n",
      "\n",
      "Available as:\n",
      "- Li-Ning Super Series 900 Strung Badminton Racket with Free Full Cover (84 Grams, Red/Grey) (on Amazon, confidence: 1.00)\n",
      "- Li-Ning Carbon Fibre Super Series 900 Strung Badminton Racket with Full Cover (84 Grams, Grey/Copper) (on Amazon, confidence: 1.00)\n",
      "\n",
      "\n"
     ]
    },
    {
     "name": "stdin",
     "output_type": "stream",
     "text": [
      "Enter the product title as seen on Prokick (or 'quit' to exit):  yonex badminton full cover for astrox racquet\n"
     ]
    },
    {
     "name": "stdout",
     "output_type": "stream",
     "text": [
      "\n",
      "Number of suitable matches found: 1\n",
      "\n",
      "Available as:\n",
      "- Yonex Badminton Full Cover for Astrox Racquet (on Amazon, confidence: 1.00)\n",
      "\n",
      "\n"
     ]
    },
    {
     "name": "stdin",
     "output_type": "stream",
     "text": [
      "Enter the product title as seen on Prokick (or 'quit' to exit):  yonex arcsaber 71 light strung badminton racquet, 5ug4 - gold\n"
     ]
    },
    {
     "name": "stdout",
     "output_type": "stream",
     "text": [
      "\n",
      "Number of suitable matches found: 3\n",
      "\n",
      "Available as:\n",
      "- Yonex Arcsaber 71 Light Strung Badminton Racquet, 5UG4 - Gold (on Amazon, confidence: 1.00)\n",
      "- Yonex Arcsaber 71 Light Strung Badminton Racquet, G4 - Gold (on Prokick, confidence: 1.00)\n",
      "- Yonex Arcsaber 71 Light Strung Badminton Racquet 5U5 - White (on Prokick, confidence: 1.00)\n",
      "\n",
      "\n"
     ]
    },
    {
     "name": "stdin",
     "output_type": "stream",
     "text": [
      "Enter the product title as seen on Prokick (or 'quit' to exit):  scitron volcano preworkout - (pink lemonade)\n"
     ]
    },
    {
     "name": "stdout",
     "output_type": "stream",
     "text": [
      "\n",
      "Number of suitable matches found: 1\n",
      "\n",
      "Available as:\n",
      "- Scitron Volcano Preworkout - (Pink Lemonade) (on Instasports, confidence: 1.00)\n",
      "\n",
      "\n"
     ]
    }
   ],
   "source": [
    "import os\n",
    "import pandas as pd\n",
    "import torch\n",
    "import pickle\n",
    "from fuzzywuzzy import fuzz\n",
    "from sklearn.metrics import f1_score, precision_score, recall_score\n",
    "\n",
    "# Set the directory path here\n",
    "DIRECTORY_PATH = \"C:/Users/HP/Desktop/ecom/Inputs\"\n",
    "\n",
    "# Load the model and tokenizer\n",
    "with open('combined_model.pkl', 'rb') as f:\n",
    "    model = pickle.load(f)\n",
    "\n",
    "with open('tokenizer.pkl', 'rb') as f:\n",
    "    tokenizer = pickle.load(f)\n",
    "\n",
    "def load_datasets(directory_path):\n",
    "    all_dataframes = []\n",
    "    for filename in os.listdir(directory_path):\n",
    "        if filename.endswith('.csv'):\n",
    "            file_path = os.path.join(directory_path, filename)\n",
    "            try:\n",
    "                df = pd.read_csv(file_path, encoding='latin1')\n",
    "                df['platform'] = os.path.splitext(filename)[0]\n",
    "                all_dataframes.append(df)\n",
    "            except Exception as e:\n",
    "                print(f\"Error reading {filename}: {e}\")\n",
    "    \n",
    "    if not all_dataframes:\n",
    "        raise ValueError(\"No valid CSV files found in the specified directory.\")\n",
    "    \n",
    "    return pd.concat(all_dataframes, ignore_index=True)\n",
    "\n",
    "def predict(text):\n",
    "    inputs = tokenizer(text, return_tensors=\"pt\", truncation=True, padding=True)\n",
    "    model.eval()\n",
    "    with torch.no_grad():\n",
    "        outputs = model(**inputs)\n",
    "        logits = outputs.logits\n",
    "        probabilities = torch.softmax(logits, dim=1)\n",
    "        predicted_class = torch.argmax(probabilities, dim=1).item()\n",
    "    return predicted_class, probabilities[0][predicted_class].item()\n",
    "\n",
    "def find_matches(prokick_title, all_products, threshold=80):\n",
    "    matches = []\n",
    "    for index, row in all_products.iterrows():\n",
    "        similarity = fuzz.ratio(prokick_title.lower(), row['title'].lower())\n",
    "        if similarity >= threshold:\n",
    "            predicted_class, confidence = predict(row['title'])\n",
    "            if predicted_class == 1:  # 1 indicates availability\n",
    "                matches.append((row['title'], row['platform'], confidence))\n",
    "    return matches\n",
    "\n",
    "def evaluate_model(test_data):\n",
    "    y_pred = []\n",
    "    for _, row in test_data.iterrows():\n",
    "        predicted_class, _ = predict(row['title'])\n",
    "        y_pred.append(predicted_class)\n",
    "    \n",
    "    # Assuming class balance for demonstration\n",
    "    # In a real scenario, you'd need a way to determine true labels\n",
    "    y_true = [1] * (len(y_pred) // 2) + [0] * (len(y_pred) - len(y_pred) // 2)\n",
    "    \n",
    "    f1 = f1_score(y_true, y_pred, average='weighted')\n",
    "    precision = precision_score(y_true, y_pred, average='weighted')\n",
    "    recall = recall_score(y_true, y_pred, average='weighted')\n",
    "    \n",
    "    print(f\"F1 Score: {f1:.4f}\")\n",
    "    print(f\"Precision: {precision:.4f}\")\n",
    "    print(f\"Recall: {recall:.4f}\")\n",
    "    print(\"Note: These metrics are based on assumed true labels and may not reflect actual performance.\")\n",
    "\n",
    "def main():\n",
    "    # Load all products\n",
    "    all_products = load_datasets(DIRECTORY_PATH)\n",
    "    \n",
    "    # Evaluate the model\n",
    "    print(\"Evaluating model performance...\")\n",
    "    test_data = all_products.sample(n=min(1000, len(all_products)), random_state=42)\n",
    "    evaluate_model(test_data)\n",
    "    \n",
    "    print(\"\\nProduct Search\")\n",
    "    while True:\n",
    "        prokick_title = input(\"Enter the product title as seen on Prokick (or 'quit' to exit): \")\n",
    "        if prokick_title.lower() == 'quit':\n",
    "            break\n",
    "        \n",
    "        matches = find_matches(prokick_title, all_products)\n",
    "        \n",
    "        print(f\"\\nNumber of suitable matches found: {len(matches)}\")\n",
    "        if matches:\n",
    "            print(\"\\nAvailable as:\")\n",
    "            for title, platform, confidence in matches:\n",
    "                print(f\"- {title} (on {platform}, confidence: {confidence:.2f})\")\n",
    "        else:\n",
    "            print(\"No matches found on other platforms.\")\n",
    "        print(\"\\n\")\n",
    "\n",
    "if __name__ == \"__main__\":\n",
    "    main()"
   ]
  },
  {
   "cell_type": "code",
   "execution_count": null,
   "id": "2ec22968-1839-4ae5-8dfb-15104cbce5fa",
   "metadata": {},
   "outputs": [],
   "source": []
  }
 ],
 "metadata": {
  "kernelspec": {
   "display_name": "Python 3 (ipykernel)",
   "language": "python",
   "name": "python3"
  },
  "language_info": {
   "codemirror_mode": {
    "name": "ipython",
    "version": 3
   },
   "file_extension": ".py",
   "mimetype": "text/x-python",
   "name": "python",
   "nbconvert_exporter": "python",
   "pygments_lexer": "ipython3",
   "version": "3.11.7"
  }
 },
 "nbformat": 4,
 "nbformat_minor": 5
}
